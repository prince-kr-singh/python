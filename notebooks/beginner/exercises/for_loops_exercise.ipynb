{
 "cells": [
  {
   "cell_type": "markdown",
   "metadata": {},
   "source": [
    "# 1. Fill the missing pieces\n",
    "Fill the `____` parts in the code below."
   ]
  },
  {
   "cell_type": "code",
   "execution_count": null,
   "metadata": {},
   "outputs": [],
   "source": [
    "words = ['PYTHON', 'JOHN', 'chEEse', 'hAm', 'DOE', '123']\n",
    "upper_case_words = []\n",
    "\n",
    "for ____ in words:\n",
    "    if ____.isupper():\n",
    "        ____.append(____)"
   ]
  },
  {
   "cell_type": "code",
   "execution_count": null,
   "metadata": {
    "editable": false
   },
   "outputs": [],
   "source": [
    "assert upper_case_words == ['PYTHON', 'JOHN', 'DOE']"
   ]
  },
  {
   "cell_type": "markdown",
   "metadata": {},
   "source": [
    "# 2. Calculate the sum of dict values\n",
    "Calculate the sum of the values in `magic_dict` by taking only into account numeric values (hint: see [isinstance](https://docs.python.org/3/library/functions.html#isinstance)). "
   ]
  },
  {
   "cell_type": "code",
   "execution_count": 8,
   "metadata": {
    "editable": false
   },
   "outputs": [],
   "source": [
    "magic_dict = dict(val1=44, val2='secret value', val3=55.0, val4=1)"
   ]
  },
  {
   "cell_type": "code",
   "execution_count": 15,
   "metadata": {},
   "outputs": [
    {
     "name": "stdout",
     "output_type": "stream",
     "text": [
      "100.0\n"
     ]
    }
   ],
   "source": [
    "# Your implementation\n",
    "sum_of_values = 0\n",
    "for val in magic_dict.values():\n",
    "    if isinstance(val,(int,float)) == False:\n",
    "        continue\n",
    "    sum_of_values = sum_of_values + val\n",
    "print(sum_of_values)"
   ]
  },
  {
   "cell_type": "code",
   "execution_count": 16,
   "metadata": {
    "editable": false
   },
   "outputs": [],
   "source": [
    "assert sum_of_values == 100"
   ]
  },
  {
   "cell_type": "markdown",
   "metadata": {},
   "source": [
    "# 3. Create a list of strings based on a list of numbers\n",
    "The rules:\n",
    "* If the number is a multiple of five and odd, the string should be `'five odd'`\n",
    "* If the number is a multiple of five and even, the string should be `'five even'`\n",
    "* If the number is odd, the string is `'odd'`\n",
    "* If the number is even, the string is `'even'`"
   ]
  },
  {
   "cell_type": "code",
   "execution_count": 19,
   "metadata": {
    "editable": false
   },
   "outputs": [],
   "source": [
    "numbers = [1, 3, 4, 6, 81, 80, 100, 95]"
   ]
  },
  {
   "cell_type": "code",
   "execution_count": 21,
   "metadata": {},
   "outputs": [],
   "source": [
    "# Your implementation\n",
    "my_list = []\n",
    "for i in numbers:\n",
    "    if i%5==0 and i%2==1:\n",
    "        my_list.append('five odd')\n",
    "    elif i%5==0 and i%2==0:\n",
    "        my_list.append('five even')\n",
    "    elif i%2==1:\n",
    "        my_list.append('odd')\n",
    "    elif i%2==0:\n",
    "        my_list.append('even')"
   ]
  },
  {
   "cell_type": "code",
   "execution_count": 22,
   "metadata": {
    "editable": false
   },
   "outputs": [],
   "source": [
    "assert my_list == ['odd', 'odd', 'even', 'even', 'odd', 'five even', 'five even', 'five odd']"
   ]
  }
 ],
 "metadata": {
  "kernelspec": {
   "display_name": "Python 3.9.6 64-bit",
   "language": "python",
   "name": "python3"
  },
  "language_info": {
   "codemirror_mode": {
    "name": "ipython",
    "version": 3
   },
   "file_extension": ".py",
   "mimetype": "text/x-python",
   "name": "python",
   "nbconvert_exporter": "python",
   "pygments_lexer": "ipython3",
   "version": "3.9.6"
  },
  "vscode": {
   "interpreter": {
    "hash": "2fae055df153f3d9b4a94794e1625d88d62210ab3cb57f2c345c06772579ae21"
   }
  }
 },
 "nbformat": 4,
 "nbformat_minor": 2
}
