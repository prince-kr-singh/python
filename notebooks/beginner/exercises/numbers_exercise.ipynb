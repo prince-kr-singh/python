{
 "cells": [
  {
   "cell_type": "markdown",
   "metadata": {},
   "source": [
    "# 1. Creating formulas\n",
    "Write the following mathematical formula in Python:\n",
    "\n",
    "\\begin{align}\n",
    " result = 6a^3 - \\frac{8b^2 }{4c} + 11\n",
    "\\end{align}\n"
   ]
  },
  {
   "cell_type": "code",
   "execution_count": 1,
   "metadata": {
    "editable": false
   },
   "outputs": [],
   "source": [
    "a = 2\n",
    "b = 3\n",
    "c = 2"
   ]
  },
  {
   "cell_type": "code",
   "execution_count": 4,
   "metadata": {},
   "outputs": [],
   "source": [
    "# Your formula here:\n",
    "result = 6 * a**3 - (8*b**2/(4*c)) + 11"
   ]
  },
  {
   "cell_type": "code",
   "execution_count": 5,
   "metadata": {
    "editable": false
   },
   "outputs": [],
   "source": [
    "\n",
    "assert result == 50"
   ]
  },
  {
   "cell_type": "markdown",
   "metadata": {},
   "source": [
    "# 2. Floating point pitfalls\n",
    "Show that `0.1 + 0.2 == 0.3`"
   ]
  },
  {
   "cell_type": "code",
   "execution_count": 8,
   "metadata": {},
   "outputs": [],
   "source": [
    "# Your solution here\n",
    "from decimal import Decimal\n",
    "# This won't work:\n",
    "ans = Decimal('0.1')+Decimal('0.2')\n",
    "assert ans == Decimal('0.3')"
   ]
  }
 ],
 "metadata": {
  "kernelspec": {
   "display_name": "Python 3.9.6 64-bit",
   "language": "python",
   "name": "python3"
  },
  "language_info": {
   "codemirror_mode": {
    "name": "ipython",
    "version": 3
   },
   "file_extension": ".py",
   "mimetype": "text/x-python",
   "name": "python",
   "nbconvert_exporter": "python",
   "pygments_lexer": "ipython3",
   "version": "3.9.6"
  },
  "vscode": {
   "interpreter": {
    "hash": "2fae055df153f3d9b4a94794e1625d88d62210ab3cb57f2c345c06772579ae21"
   }
  }
 },
 "nbformat": 4,
 "nbformat_minor": 2
}
